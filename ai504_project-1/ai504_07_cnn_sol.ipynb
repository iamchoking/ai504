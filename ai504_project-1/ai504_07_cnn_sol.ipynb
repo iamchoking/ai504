{
  "cells": [
    {
      "cell_type": "markdown",
      "metadata": {
        "id": "G4XfjU8DO6HQ"
      },
      "source": [
        "# Week 7: Convolutional Neural Networks"
      ]
    },
    {
      "cell_type": "markdown",
      "metadata": {
        "id": "kyqJI7LMO6HV"
      },
      "source": [
        "In this practice session, we will cover implementation of Convolutional Neural Networks (CNNs) using PyTorch library. Particulary, in part 1, we will see how to define and use convolutional, batch normalization, and dropout layer to build a simple CNNs to classify MNIST. In part 2, we will implement ResNet for CIFAR-10 classification task and see the effectiveness of residual connection."
      ]
    },
    {
      "cell_type": "markdown",
      "metadata": {
        "id": "kAn7otzTO6HW"
      },
      "source": [
        "## 0. Preliminary"
      ]
    },
    {
      "cell_type": "markdown",
      "metadata": {
        "id": "jUgBhcfZO6HX"
      },
      "source": [
        "Let's import required libraries and datasets. We will use MNIST and CIFAR-10 to train a simple CNNs and ResNet, respectively."
      ]
    },
    {
      "cell_type": "code",
      "execution_count": 1,
      "metadata": {
        "id": "4gLejqUUO6HX"
      },
      "outputs": [],
      "source": [
        "import torch\n",
        "import torch.nn as nn\n",
        "import torch.nn.functional as F\n",
        "from torch.utils.data import DataLoader\n",
        "\n",
        "import torchvision\n",
        "import torchvision.transforms as transforms\n",
        "from torchvision.datasets import MNIST, CIFAR10\n",
        "from IPython.display import Image"
      ]
    },
    {
      "cell_type": "code",
      "execution_count": 2,
      "metadata": {
        "colab": {
          "base_uri": "https://localhost:8080/"
        },
        "id": "UhgDtLKfO6HZ",
        "outputId": "74832c90-69e0-4813-9849-341053d3f820"
      },
      "outputs": [
        {
          "output_type": "stream",
          "name": "stdout",
          "text": [
            "Downloading http://yann.lecun.com/exdb/mnist/train-images-idx3-ubyte.gz\n",
            "Failed to download (trying next):\n",
            "<urlopen error [SSL: CERTIFICATE_VERIFY_FAILED] certificate verify failed: certificate has expired (_ssl.c:1007)>\n",
            "\n",
            "Downloading https://ossci-datasets.s3.amazonaws.com/mnist/train-images-idx3-ubyte.gz\n",
            "Downloading https://ossci-datasets.s3.amazonaws.com/mnist/train-images-idx3-ubyte.gz to ./MNIST/raw/train-images-idx3-ubyte.gz\n"
          ]
        },
        {
          "output_type": "stream",
          "name": "stderr",
          "text": [
            "100%|██████████| 9912422/9912422 [00:10<00:00, 908407.66it/s] \n"
          ]
        },
        {
          "output_type": "stream",
          "name": "stdout",
          "text": [
            "Extracting ./MNIST/raw/train-images-idx3-ubyte.gz to ./MNIST/raw\n",
            "\n",
            "Downloading http://yann.lecun.com/exdb/mnist/train-labels-idx1-ubyte.gz\n",
            "Failed to download (trying next):\n",
            "<urlopen error [SSL: CERTIFICATE_VERIFY_FAILED] certificate verify failed: certificate has expired (_ssl.c:1007)>\n",
            "\n",
            "Downloading https://ossci-datasets.s3.amazonaws.com/mnist/train-labels-idx1-ubyte.gz\n",
            "Downloading https://ossci-datasets.s3.amazonaws.com/mnist/train-labels-idx1-ubyte.gz to ./MNIST/raw/train-labels-idx1-ubyte.gz\n"
          ]
        },
        {
          "output_type": "stream",
          "name": "stderr",
          "text": [
            "100%|██████████| 28881/28881 [00:00<00:00, 133308.35it/s]\n"
          ]
        },
        {
          "output_type": "stream",
          "name": "stdout",
          "text": [
            "Extracting ./MNIST/raw/train-labels-idx1-ubyte.gz to ./MNIST/raw\n",
            "\n",
            "Downloading http://yann.lecun.com/exdb/mnist/t10k-images-idx3-ubyte.gz\n",
            "Failed to download (trying next):\n",
            "<urlopen error [SSL: CERTIFICATE_VERIFY_FAILED] certificate verify failed: certificate has expired (_ssl.c:1007)>\n",
            "\n",
            "Downloading https://ossci-datasets.s3.amazonaws.com/mnist/t10k-images-idx3-ubyte.gz\n",
            "Downloading https://ossci-datasets.s3.amazonaws.com/mnist/t10k-images-idx3-ubyte.gz to ./MNIST/raw/t10k-images-idx3-ubyte.gz\n"
          ]
        },
        {
          "output_type": "stream",
          "name": "stderr",
          "text": [
            "100%|██████████| 1648877/1648877 [00:02<00:00, 757684.12it/s] \n"
          ]
        },
        {
          "output_type": "stream",
          "name": "stdout",
          "text": [
            "Extracting ./MNIST/raw/t10k-images-idx3-ubyte.gz to ./MNIST/raw\n",
            "\n",
            "Downloading http://yann.lecun.com/exdb/mnist/t10k-labels-idx1-ubyte.gz\n",
            "Failed to download (trying next):\n",
            "<urlopen error [SSL: CERTIFICATE_VERIFY_FAILED] certificate verify failed: certificate has expired (_ssl.c:1007)>\n",
            "\n",
            "Downloading https://ossci-datasets.s3.amazonaws.com/mnist/t10k-labels-idx1-ubyte.gz\n",
            "Downloading https://ossci-datasets.s3.amazonaws.com/mnist/t10k-labels-idx1-ubyte.gz to ./MNIST/raw/t10k-labels-idx1-ubyte.gz\n"
          ]
        },
        {
          "output_type": "stream",
          "name": "stderr",
          "text": [
            "100%|██████████| 4542/4542 [00:00<00:00, 10269826.83it/s]"
          ]
        },
        {
          "output_type": "stream",
          "name": "stdout",
          "text": [
            "Extracting ./MNIST/raw/t10k-labels-idx1-ubyte.gz to ./MNIST/raw\n",
            "\n"
          ]
        },
        {
          "output_type": "stream",
          "name": "stderr",
          "text": [
            "\n"
          ]
        }
      ],
      "source": [
        "# MNIST\n",
        "mnist_train = MNIST(\"./\", train=True, transform=transforms.ToTensor(), target_transform=None, download=True)\n",
        "mnist_test = MNIST(\"./\", train=False, transform=transforms.ToTensor(), target_transform=None, download=True)\n",
        "mnist_train, mnist_val = torch.utils.data.random_split(mnist_train, [50000, 10000])\n",
        "\n",
        "dataloaders = {}\n",
        "dataloaders['train'] = DataLoader(mnist_train, batch_size=128, shuffle=True)\n",
        "dataloaders['val'] = DataLoader(mnist_val, batch_size=128, shuffle=False)\n",
        "dataloaders['test'] = DataLoader(mnist_test, batch_size=128, shuffle=False)"
      ]
    },
    {
      "cell_type": "markdown",
      "metadata": {
        "id": "UxL5SNo0O6HZ"
      },
      "source": [
        "In case of CIFAR-10, we use conventional transforms and normalization.\n",
        "\n",
        "For more example, please refer to\n",
        "https://pytorch.org/vision/stable/auto_examples/plot_transforms.html#sphx-glr-auto-examples-plot-transforms-py"
      ]
    },
    {
      "cell_type": "code",
      "execution_count": 3,
      "metadata": {
        "colab": {
          "base_uri": "https://localhost:8080/"
        },
        "id": "2p1NFlPKO6Ha",
        "outputId": "3b128711-b244-43c2-c3ea-755a3f4839d7"
      },
      "outputs": [
        {
          "output_type": "stream",
          "name": "stdout",
          "text": [
            "Downloading https://www.cs.toronto.edu/~kriz/cifar-10-python.tar.gz to ./cifar-10-python.tar.gz\n"
          ]
        },
        {
          "output_type": "stream",
          "name": "stderr",
          "text": [
            "100%|██████████| 170498071/170498071 [00:12<00:00, 13135635.44it/s]\n"
          ]
        },
        {
          "output_type": "stream",
          "name": "stdout",
          "text": [
            "Extracting ./cifar-10-python.tar.gz to ./\n",
            "Files already downloaded and verified\n"
          ]
        },
        {
          "output_type": "stream",
          "name": "stderr",
          "text": [
            "/usr/local/lib/python3.10/dist-packages/torch/utils/data/dataloader.py:557: UserWarning: This DataLoader will create 4 worker processes in total. Our suggested max number of worker in current system is 2, which is smaller than what this DataLoader is going to create. Please be aware that excessive worker creation might get DataLoader running slow or even freeze, lower the worker number to avoid potential slowness/freeze if necessary.\n",
            "  warnings.warn(_create_warning_msg(\n"
          ]
        }
      ],
      "source": [
        "transforms_train = transforms.Compose([\n",
        "  transforms.RandomCrop(32, padding=4),\n",
        "  transforms.RandomHorizontalFlip(),\n",
        "  transforms.ToTensor(),\n",
        "  transforms.Normalize((0.4914, 0.4822, 0.4465), (0.2023, 0.1994, 0.2010)),\n",
        "])\n",
        "transforms_test = transforms.Compose([\n",
        "  transforms.ToTensor(),\n",
        "  transforms.Normalize((0.4914, 0.4822, 0.4465), (0.2023, 0.1994, 0.2010)),\n",
        "])\n",
        "\n",
        "cifar_train = CIFAR10(root='./', train=True,\n",
        "            download=True, transform=transforms_train)\n",
        "cifar_test = CIFAR10(root='./', train=False,\n",
        "             download=True, transform=transforms_test)\n",
        "cifar_loader = {}\n",
        "cifar_loader['train'] = DataLoader(cifar_train, batch_size=128,\n",
        "                        shuffle=True, num_workers=4)\n",
        "cifar_loader['test'] = DataLoader(cifar_test, batch_size=128,\n",
        "                       shuffle=False, num_workers=4)"
      ]
    },
    {
      "cell_type": "markdown",
      "metadata": {
        "id": "vYW4ocQfO6Hc"
      },
      "source": [
        "## 1. Convolutional, Batch Norm and Dropout Layer Practice"
      ]
    },
    {
      "cell_type": "markdown",
      "metadata": {
        "id": "zDufyb-PO6Hd"
      },
      "source": [
        "### 1.1. Convolutional Layer"
      ]
    },
    {
      "cell_type": "markdown",
      "metadata": {
        "id": "xeCmgjbKO6Hd"
      },
      "source": [
        "In PyTorch, 2-dimensional convolutional layer is given with the pytorch `torch.nn.Conv2d` package. In this section, we will learn basic usage of pytorch convolutional layer with some example codes and practices."
      ]
    },
    {
      "cell_type": "markdown",
      "metadata": {
        "id": "e3Wme-TpO6He"
      },
      "source": [
        "As in our lecture session, we should specify convolution with the number of channels of input and output, kernel size, the size of stride and padding. In Pytorch `torch.nn.Conv2d` class, those traits can be specified as class parameters. The detailed explanation and default values are available on below and the official sites (https://pytorch.org/docs/stable/generated/torch.nn.Conv2d.html)\n"
      ]
    },
    {
      "cell_type": "markdown",
      "metadata": {
        "id": "RMmBa2J7O6Hf"
      },
      "source": [
        "* in_channels (int) – Number of channels in the input image\n",
        "\n",
        "* out_channels (int) – Number of channels produced by the convolution\n",
        "\n",
        "* kernel_size (int or tuple) – Size of the convolving kernel\n",
        "\n",
        "* stride (int or tuple, optional) – Stride of the convolution. Default: 1\n",
        "\n",
        "* padding (int or tuple, optional) – Zero-padding added to both sides of the input. Default: 0"
      ]
    },
    {
      "cell_type": "markdown",
      "metadata": {
        "id": "rxNbgU7rO6Hf"
      },
      "source": [
        "Now, let's define our convolutional layer and practice. As in our lecture note, let's suppose we have 32x32-sized image with 3 channels."
      ]
    },
    {
      "cell_type": "code",
      "execution_count": 4,
      "metadata": {
        "id": "_uGTcmlDO6Hg"
      },
      "outputs": [],
      "source": [
        "\"\"\"\n",
        "Note: Since PyTorch Conv2d receives 4-dimensional input (i.e. a batch of image(s)),\n",
        "we define input x with the first argument 1.\n",
        "\"\"\"\n",
        "x = torch.randn(1, 3, 32, 32)"
      ]
    },
    {
      "cell_type": "markdown",
      "metadata": {
        "id": "53QJmdhFO6Hg"
      },
      "source": [
        "Then, the number of input channel is 3, which is the same value with the input images' channel (the second argument of above `randn` method).\n",
        "\n",
        "How about the number of output channel, kernel and stride size? Following the figure in our lecture note, we can easily see that the number of output channel should be 1. You can naively regard the kernel size as the spatial size of filter in the lecture note. Thus, the kernel size should be (5,5), and the stride size should be 1. In practice, since the spatial size of filter in in square form (i.e., width = height), we usually specifiy kernel size with only single integer (in our case 5)."
      ]
    },
    {
      "cell_type": "code",
      "execution_count": 5,
      "metadata": {
        "id": "uHMjfSniO6Hh"
      },
      "outputs": [],
      "source": [
        "# Fill out the ?? of below\n",
        "conv_layer = torch.nn.Conv2d(in_channels=3, out_channels=1, kernel_size=5, padding=0,stride=1)"
      ]
    },
    {
      "cell_type": "code",
      "execution_count": 6,
      "metadata": {
        "colab": {
          "base_uri": "https://localhost:8080/"
        },
        "id": "DqiymvMSO6Hh",
        "outputId": "9632a13c-0afa-4d2b-9edd-0e714f55b553"
      },
      "outputs": [
        {
          "output_type": "execute_result",
          "data": {
            "text/plain": [
              "torch.Size([1, 1, 28, 28])"
            ]
          },
          "metadata": {},
          "execution_count": 6
        }
      ],
      "source": [
        "# You should check the output size of covolution layer is [1, 1, 28, 28].\n",
        "conv_layer(x).size()"
      ]
    },
    {
      "cell_type": "markdown",
      "metadata": {
        "id": "M8cLB_T9O6Hh"
      },
      "source": [
        "Also check the other example in the lecture note as below.\n",
        "* Input volume: 3x32x32\n",
        "* 10 5x5 filters with stride 1, pad 2"
      ]
    },
    {
      "cell_type": "code",
      "execution_count": 7,
      "metadata": {
        "colab": {
          "base_uri": "https://localhost:8080/"
        },
        "id": "bTP0TjX-O6Hi",
        "outputId": "0722eedf-f58e-43e6-d4a7-7a68314741b2"
      },
      "outputs": [
        {
          "output_type": "stream",
          "name": "stdout",
          "text": [
            "torch.Size([1, 10, 32, 32])\n"
          ]
        }
      ],
      "source": [
        "x = torch.randn(1, 3, 32, 32)\n",
        "conv_layer = torch.nn.Conv2d(in_channels=3, out_channels=10, kernel_size=5, stride=1, padding=2)\n",
        "print(conv_layer(x).size())"
      ]
    },
    {
      "cell_type": "markdown",
      "metadata": {
        "id": "-rpfV2r3O6Hi"
      },
      "source": [
        "### 1.2. BatchNorm and Dropout layer"
      ]
    },
    {
      "cell_type": "markdown",
      "metadata": {
        "id": "CuGcETUcO6Hi"
      },
      "source": [
        "In a similar manner, batch normalization and dropout layer also can be used from `torch.nn.BatchNorm2d` and `torch.nn.Dropout2d`."
      ]
    },
    {
      "cell_type": "code",
      "execution_count": 8,
      "metadata": {
        "colab": {
          "base_uri": "https://localhost:8080/"
        },
        "id": "6C58TABAO6Hj",
        "outputId": "1f72cefd-b5e7-411c-c48e-a9f0569155fc"
      },
      "outputs": [
        {
          "output_type": "stream",
          "name": "stdout",
          "text": [
            "torch.Size([1, 3, 32, 32])\n",
            "torch.Size([1, 3, 32, 32])\n"
          ]
        }
      ],
      "source": [
        "x = torch.randn(1, 3, 32, 32)\n",
        "\n",
        "bn = torch.nn.BatchNorm2d(num_features=3)\n",
        "print(bn(x).size()) # check batch norm does not change the size of input\n",
        "\n",
        "dropout = torch.nn.Dropout2d(p=0.5) # dropout can specify probability of an element to be zeroed.\n",
        "print(dropout(bn(x)).size()) # check dropout does not change the size of input"
      ]
    },
    {
      "cell_type": "code",
      "source": [
        "\"\"\"\n",
        "Provide some evidences for the implementation of BatchNorm & DropOut\n",
        "\"\"\"\n",
        "def show_evidence_plot_for_batch_norm():\n",
        "    import torch\n",
        "    import torch.nn as nn\n",
        "    import matplotlib.pyplot as plt\n",
        "\n",
        "    x = torch.randn(128, 3, 32, 32)\n",
        "    x = x * 100  # amplify\n",
        "    bn = nn.BatchNorm2d(num_features=3)\n",
        "    assert x.size() == bn(x).size()\n",
        "\n",
        "    x_c1 = x[:,0,:,:].flatten()\n",
        "    bn_x_c1 = bn(x)[:,0,:,:].detach().flatten()\n",
        "\n",
        "    plt.hist(x_c1, bins=20)\n",
        "    plt.title(f\"mean={x_c1.mean():.4f}, std={x_c1.std():.2f}\")\n",
        "    plt.show()\n",
        "\n",
        "    plt.hist(bn_x_c1, bins=20)\n",
        "    plt.title(f\"mean={bn_x_c1.mean():.4f}, std={bn_x_c1.std():.2f}\")\n",
        "    plt.show()\n",
        "\n",
        "show_evidence_plot_for_batch_norm()"
      ],
      "metadata": {
        "colab": {
          "base_uri": "https://localhost:8080/",
          "height": 887
        },
        "id": "O6ryRu6zui8O",
        "outputId": "6d0c207e-cb9e-4493-a6d0-2cc4a3d0fde8"
      },
      "execution_count": 9,
      "outputs": [
        {
          "output_type": "display_data",
          "data": {
            "text/plain": [
              "<Figure size 640x480 with 1 Axes>"
            ],
            "image/png": "[encoded data removed]"
          },
          "metadata": {}
        },
        {
          "output_type": "display_data",
          "data": {
            "text/plain": [
              "<Figure size 640x480 with 1 Axes>"
            ],
            "image/png": "[encoded data removed]"
          },
          "metadata": {}
        }
      ]
    },
    {
      "cell_type": "markdown",
      "metadata": {
        "id": "HGpr8g-RO6Hj"
      },
      "source": [
        "### 1.3. Build a Simple Convolutional Neural Network"
      ]
    },
    {
      "cell_type": "markdown",
      "metadata": {
        "id": "b3EoUUeZO6Hj"
      },
      "source": [
        "We can combine convolution layer, batch norm layer and activation function (e.g., ReLU) to construct a functional unit. In this case, we can use `torch.nn.Sequential` to define a block of sequential layers."
      ]
    },
    {
      "cell_type": "code",
      "execution_count": 10,
      "metadata": {
        "id": "XvMPb09vO6Hj"
      },
      "outputs": [],
      "source": [
        "class Net(nn.Module):\n",
        "\n",
        "    def __init__(self):\n",
        "        super(Net, self).__init__()\n",
        "        # 1 input image channel, 32 output channels, 7x7 square convolution, 1 stride\n",
        "        self.layer1 = nn.Sequential(\n",
        "            nn.Conv2d(1, 32, 7),\n",
        "            nn.BatchNorm2d(32),\n",
        "            nn.ReLU(),\n",
        "        )\n",
        "        # 32 input image channel, 64 output channels, 7x7 square convolution, 1 stride\n",
        "        self.layer2 = nn.Sequential(\n",
        "            nn.Conv2d(32, 64, 7),\n",
        "            nn.BatchNorm2d(64),\n",
        "            nn.ReLU(),\n",
        "        )\n",
        "\n",
        "        self.fc = nn.Linear(64 * 16 * 16, 10)\n",
        "\n",
        "    def forward(self, x):\n",
        "        out = self.layer1(x)\n",
        "        out = self.layer2(out)\n",
        "        out = torch.flatten(out, 1)\n",
        "        out = self.fc(out)\n",
        "        return out\n"
      ]
    },
    {
      "cell_type": "code",
      "execution_count": 11,
      "metadata": {
        "colab": {
          "base_uri": "https://localhost:8080/"
        },
        "id": "O6S3aYqoO6Hk",
        "outputId": "1197bf4f-a675-4db4-f7c0-0d94fb420155"
      },
      "outputs": [
        {
          "output_type": "stream",
          "name": "stdout",
          "text": [
            "cuda:0\n"
          ]
        }
      ],
      "source": [
        "device = torch.device(\"cuda:0\" if torch.cuda.is_available() else \"cpu\")\n",
        "print(device)\n",
        "\n",
        "net = Net().to(device)\n",
        "optimizer = torch.optim.SGD(net.parameters(), lr=0.01)"
      ]
    },
    {
      "cell_type": "code",
      "execution_count": 12,
      "metadata": {
        "id": "B8DVaI1dO6Hk"
      },
      "outputs": [],
      "source": [
        "criterion = torch.nn.CrossEntropyLoss()"
      ]
    },
    {
      "cell_type": "code",
      "execution_count": 13,
      "metadata": {
        "id": "6UbSPZZEO6Hk"
      },
      "outputs": [],
      "source": [
        "for _ in range(20):\n",
        "    for x, y in dataloaders['train']:\n",
        "        x, y = x.to(device), y.to(device)\n",
        "        out = net(x)\n",
        "        loss = criterion(out, y)\n",
        "        optimizer.zero_grad()\n",
        "        loss.backward()\n",
        "        optimizer.step()"
      ]
    },
    {
      "cell_type": "code",
      "execution_count": 14,
      "metadata": {
        "colab": {
          "base_uri": "https://localhost:8080/"
        },
        "id": "jMVQbq9JO6Hl",
        "outputId": "c5884247-4ba6-45b6-b330-0b2aefafca25"
      },
      "outputs": [
        {
          "output_type": "stream",
          "name": "stdout",
          "text": [
            "99.08\n"
          ]
        }
      ],
      "source": [
        "net.eval()\n",
        "correct = 0.0\n",
        "for x, y in dataloaders['test']:\n",
        "    x, y = x.to(device), y.to(device)\n",
        "    out = net(x)\n",
        "    correct += (out.argmax(1) == y).float().sum().item()\n",
        "print(100. * correct / len(dataloaders['test'].dataset))"
      ]
    },
    {
      "cell_type": "markdown",
      "metadata": {
        "id": "qJ1kPOwRO6Hl"
      },
      "source": [
        "## 2. CNN Architecture: ResNet"
      ]
    },
    {
      "cell_type": "markdown",
      "metadata": {
        "id": "YTGXnScLO6Hl"
      },
      "source": [
        "In this section, we will implement ResNet and see the effectiveness of residual connection in terms of test performance."
      ]
    },
    {
      "cell_type": "markdown",
      "metadata": {
        "id": "m8y0sXp5O6Hl"
      },
      "source": [
        "The overall structure of ResNet is like below.\n",
        "\n",
        "* input(channel:3) -> (conv 3x3) -> (bn) -> (relu) -> output(channel:16)\n",
        "* n Residual blocks: (16 channels -> 16 channels)\n",
        "* n Residual blocks: (16 channels -> 32 channels)\n",
        "* n Residual blocks: (32 channels -> 64 channels)\n",
        "* global average pooling + fully connected layer\n",
        "\n",
        "n can be chosen from {3,5,7,9,18} which of each corresponds to ResNet-20, 32, 44, 56, and 110, respectively."
      ]
    },
    {
      "cell_type": "markdown",
      "metadata": {
        "id": "YD8RQk-UO6Hl"
      },
      "source": [
        "### 2.1. Residual Block"
      ]
    },
    {
      "cell_type": "markdown",
      "metadata": {
        "id": "O6HnRjJ1O6Hm"
      },
      "source": [
        "Residual Block consists of 2 convolution layers with 3x3 size kernel and ReLU activation function (See below figure). Let's implement `ResidualBlock` class below with 2 convolutional layers and residual connection."
      ]
    },
    {
      "cell_type": "code",
      "execution_count": 15,
      "metadata": {
        "id": "DHvDCGxGO6Hm"
      },
      "outputs": [],
      "source": [
        "class ResidualBlock(nn.Module):\n",
        "    def __init__(self, in_channels, out_channels, stride=1, down_sample=False):\n",
        "        super(ResidualBlock, self).__init__()\n",
        "        self.conv1 = nn.Conv2d(in_channels, out_channels, kernel_size=3,\n",
        "                     stride=stride, padding=1, bias=False)\n",
        "        self.bn1 = nn.BatchNorm2d(out_channels)\n",
        "        self.relu = nn.ReLU(inplace=True)\n",
        "\n",
        "        self.conv2 = nn.Conv2d(out_channels, out_channels, kernel_size=3,\n",
        "                             stride=1, padding=1, bias=False)\n",
        "        self.bn2 = nn.BatchNorm2d(out_channels)\n",
        "\n",
        "        self.down_sample = down_sample\n",
        "        self.stride = stride\n",
        "        self.in_channels = in_channels\n",
        "        self.out_channels = out_channels\n",
        "\n",
        "    def down_sampling(self, x):\n",
        "        out = F.pad(x, (0, 0, 0, 0, 0, self.out_channels - self.in_channels))\n",
        "        out = nn.MaxPool2d(2, stride=self.stride)(out)\n",
        "        return out\n",
        "\n",
        "\n",
        "    def forward(self, x, print=False):\n",
        "        shortcut = x # this will be used to build residual connection.\n",
        "\n",
        "        out = self.conv1(x)\n",
        "        out = self.bn1(out)\n",
        "        out = self.relu(out)\n",
        "\n",
        "        out = self.conv2(out)\n",
        "        out = self.bn2(out)\n",
        "\n",
        "        if self.down_sample:\n",
        "            shortcut = self.down_sampling(x)\n",
        "\n",
        "        out += shortcut # residual connection\n",
        "        out = self.relu(out)\n",
        "        return out"
      ]
    },
    {
      "cell_type": "markdown",
      "metadata": {
        "id": "ywGYOsGsO6Hm"
      },
      "source": [
        "`ResidualBlock` class which extends `torch.nn.Module`. `ResidualBlock` class receives `in_channels`, `out_channels`, `stride` and `down_sample`.\n",
        "\n",
        "In ResNet, there are residual blocks that twice the output channel(16 to 32, 32 to 64). The `stride` argument for `ResidualBlock` is set to 2 in such residual blocks to down sample (reduce spatial dimension) while increasing channels.\n",
        "\n",
        "However, the residual connection in the residual block can occur dimension mismatch since the output of other path (through convolutional layers) change the dimension of input with `stride=2`. Thus, residual block should support downsample through the residual connection in demand.\n",
        "\n",
        "We support this feature in `down_sampling` method in `ResidualBlock` class. It conducts zero-padding to exapnd the channels and max-pooling to shrink spatial dimension through residual block. Using `down_sampling` in the middle of the `forward` method to handle `down_sample` condition to residual connection."
      ]
    },
    {
      "cell_type": "markdown",
      "metadata": {
        "id": "bQ5Jj6pqO6Hn"
      },
      "source": [
        "### 2.2. ResNet"
      ]
    },
    {
      "cell_type": "markdown",
      "metadata": {
        "id": "l6DHVmKNO6Hn"
      },
      "source": [
        "Now implement `ResNet` class. Assume the `block` argument will be `ResidualBlock` we implemented above. Here are required implementation details.\n",
        "\n",
        "* In `init` method, specifiy all details of convolution, batch norm layers.\n",
        "* In `get_layers` method, set down_sample boolean variable according to the stride information. Then, define a list of residual blocks (`layer_list`). Make sure the down-sample only occurs at the first block in demand."
      ]
    },
    {
      "cell_type": "code",
      "execution_count": 16,
      "metadata": {
        "id": "SxgPDpSjO6Hn"
      },
      "outputs": [],
      "source": [
        "class ResNet(nn.Module):\n",
        "    def __init__(self, num_layers, block, num_classes=10):\n",
        "        super(ResNet, self).__init__()\n",
        "        self.num_layers = num_layers\n",
        "\n",
        "        #input(channel:3) -> (conv 3x3) -> (bn) -> (relu) -> output(channel:16)\n",
        "        self.conv1 = nn.Conv2d(\n",
        "            in_channels=3,\n",
        "            out_channels=16,\n",
        "            kernel_size=3,\n",
        "            stride=1,\n",
        "            padding=1,\n",
        "            bias=False)\n",
        "        self.bn1 = nn.BatchNorm2d(16)\n",
        "        self.relu = nn.ReLU(inplace=True)\n",
        "\n",
        "        # feature map size = 16x32x32\n",
        "        self.layers_2n = self.get_layers(block, 16, 16, stride=1)\n",
        "        # feature map size = 32x16x16\n",
        "        self.layers_4n = self.get_layers(block, 16, 32, stride=2)\n",
        "        # feature map size = 64x8x8\n",
        "        self.layers_6n = self.get_layers(block, 32, 64, stride=2)\n",
        "\n",
        "        # output layers\n",
        "        self.avg_pool = nn.AvgPool2d(8, stride=1)\n",
        "        self.fc_out = nn.Linear(64, num_classes)\n",
        "\n",
        "        for m in self.modules():\n",
        "            if isinstance(m, nn.Conv2d):\n",
        "                nn.init.kaiming_normal_(m.weight, mode='fan_out', nonlinearity='relu')\n",
        "            elif isinstance(m, nn.BatchNorm2d):\n",
        "                nn.init.constant_(m.weight, 1)\n",
        "                nn.init.constant_(m.bias, 0)\n",
        "\n",
        "\n",
        "    def get_layers(self, block, in_channels, out_channels, stride):\n",
        "        if stride == 2:\n",
        "            down_sample = True\n",
        "        else:\n",
        "            down_sample = False\n",
        "\n",
        "        layer_list = nn.ModuleList([block(in_channels, out_channels, stride, down_sample)])\n",
        "\n",
        "        for _ in range(self.num_layers - 1):\n",
        "            layer_list.append(block(out_channels, out_channels))\n",
        "\n",
        "        return nn.Sequential(*layer_list)\n",
        "\n",
        "\n",
        "    def forward(self, x):\n",
        "        x = self.conv1(x)\n",
        "        x = self.bn1(x)\n",
        "        x = self.relu(x)\n",
        "\n",
        "        x = self.layers_2n(x)\n",
        "        x = self.layers_4n(x)\n",
        "        x = self.layers_6n(x)\n",
        "\n",
        "        x = self.avg_pool(x)\n",
        "        x = x.view(x.size(0), -1)\n",
        "        x = self.fc_out(x)\n",
        "\n",
        "        return x"
      ]
    },
    {
      "cell_type": "markdown",
      "metadata": {
        "id": "Z9UPfcuHO6Ho"
      },
      "source": [
        "In this practice we use resnet32 to train CIFAR-10."
      ]
    },
    {
      "cell_type": "code",
      "execution_count": 17,
      "metadata": {
        "id": "kN6Km1gRO6Ho"
      },
      "outputs": [],
      "source": [
        "def resnet18():\n",
        "    block = ResidualBlock\n",
        "    model = ResNet(3, block)\n",
        "    return model\n",
        "def resnet32():\n",
        "    block = ResidualBlock\n",
        "    model = ResNet(5, block)\n",
        "    return model"
      ]
    },
    {
      "cell_type": "markdown",
      "metadata": {
        "id": "0shg_rbpO6Ho"
      },
      "source": [
        "By replacing `ResidualBlock` with plain `Block` (without residual connection), we can compare the effectiveness of residual connection."
      ]
    },
    {
      "cell_type": "code",
      "execution_count": 18,
      "metadata": {
        "id": "0RkZAHNBO6Ho"
      },
      "outputs": [],
      "source": [
        "class Block(nn.Module):\n",
        "    def __init__(self, in_channels, out_channels, stride=1, down_sample=False):\n",
        "        super(Block, self).__init__()\n",
        "        self.conv1 = nn.Conv2d(in_channels, out_channels, kernel_size=3,\n",
        "                     stride=stride, padding=1, bias=False)\n",
        "        self.bn1 = nn.BatchNorm2d(out_channels)\n",
        "        self.relu = nn.ReLU(inplace=True)\n",
        "\n",
        "        self.conv2 = nn.Conv2d(out_channels, out_channels, kernel_size=3,\n",
        "                             stride=1, padding=1, bias=False)\n",
        "        self.bn2 = nn.BatchNorm2d(out_channels)\n",
        "\n",
        "        self.stride = stride\n",
        "        self.in_channels = in_channels\n",
        "        self.out_channels = out_channels\n",
        "\n",
        "\n",
        "    def forward(self, x):\n",
        "        out = self.conv1(x)\n",
        "        out = self.bn1(out)\n",
        "        out = self.relu(out)\n",
        "\n",
        "        out = self.conv2(out)\n",
        "        out = self.bn2(out)\n",
        "        out = self.relu(out)\n",
        "\n",
        "        return out"
      ]
    },
    {
      "cell_type": "code",
      "execution_count": 19,
      "metadata": {
        "id": "aHebg5-zO6Hp"
      },
      "outputs": [],
      "source": [
        "def cnn18():\n",
        "    block = Block\n",
        "    model = ResNet(3, block)\n",
        "    return model\n",
        "\n",
        "def cnn32():\n",
        "    block = Block\n",
        "    model = ResNet(5, block)\n",
        "    return model"
      ]
    },
    {
      "cell_type": "markdown",
      "metadata": {
        "id": "-e5SCvq7O6Hp"
      },
      "source": [
        "### 2.3. Train"
      ]
    },
    {
      "cell_type": "markdown",
      "metadata": {
        "id": "3uJIFHvbO6Hp"
      },
      "source": [
        "Training resnet is not different with other training schemes. We train 64000 batch steps with 128 batch size. The learning rate starts from 0.1 and is decayed at 32,000 and 48,000 step with 0.1 factor."
      ]
    },
    {
      "cell_type": "code",
      "execution_count": 20,
      "metadata": {
        "id": "fvPn12E3O6Hp"
      },
      "outputs": [],
      "source": [
        "net = resnet18().to(device)\n",
        "optimizer = torch.optim.SGD(net.parameters(), lr=0.1, momentum=0.9, weight_decay=1e-4)\n",
        "decay_epoch = [32000, 48000]\n",
        "step_lr_scheduler = torch.optim.lr_scheduler.MultiStepLR(optimizer, milestones=decay_epoch, gamma=0.1)"
      ]
    },
    {
      "cell_type": "code",
      "execution_count": 21,
      "metadata": {
        "id": "X7_eSZ8KO6Hp",
        "outputId": "311b34b2-942f-49bd-e041-fed094a11a90",
        "colab": {
          "base_uri": "https://localhost:8080/"
        }
      },
      "outputs": [
        {
          "output_type": "stream",
          "name": "stderr",
          "text": [
            "/usr/local/lib/python3.10/dist-packages/torch/optim/lr_scheduler.py:216: UserWarning: Detected call of `lr_scheduler.step()` before `optimizer.step()`. In PyTorch 1.1.0 and later, you should call them in the opposite order: `optimizer.step()` before `lr_scheduler.step()`.  Failure to do this will result in PyTorch skipping the first value of the learning rate schedule. See more details at https://pytorch.org/docs/stable/optim.html#how-to-adjust-learning-rate\n",
            "  warnings.warn(\n"
          ]
        },
        {
          "output_type": "stream",
          "name": "stdout",
          "text": [
            "Epoch[1 (391/64000) (21.8216sec)] loss: 677.52 acc: 36.25\n",
            "Epoch[2 (782/64000) (44.8037sec)] loss: 453.90 acc: 57.91\n",
            "Epoch[3 (1173/64000) (67.5927sec)] loss: 349.66 acc: 68.46\n",
            "Epoch[4 (1564/64000) (89.6057sec)] loss: 290.45 acc: 74.07\n",
            "Epoch[5 (1955/64000) (112.2944sec)] loss: 255.21 acc: 77.10\n",
            "Epoch[6 (2346/64000) (135.4187sec)] loss: 233.22 acc: 79.50\n",
            "Epoch[7 (2737/64000) (157.8821sec)] loss: 219.03 acc: 80.72\n",
            "Epoch[8 (3128/64000) (180.1680sec)] loss: 204.90 acc: 82.08\n",
            "Epoch[9 (3519/64000) (203.0464sec)] loss: 193.46 acc: 82.88\n",
            "Epoch[10 (3910/64000) (225.1002sec)] loss: 185.42 acc: 83.65\n",
            "Epoch[11 (4301/64000) (247.4646sec)] loss: 175.56 acc: 84.41\n",
            "Epoch[12 (4692/64000) (270.1907sec)] loss: 169.91 acc: 85.10\n",
            "Epoch[13 (5083/64000) (291.9809sec)] loss: 164.48 acc: 85.52\n",
            "Epoch[14 (5474/64000) (314.5913sec)] loss: 160.31 acc: 85.64\n",
            "Epoch[15 (5865/64000) (337.7031sec)] loss: 155.03 acc: 86.19\n",
            "Epoch[16 (6256/64000) (359.8852sec)] loss: 152.75 acc: 86.61\n",
            "Epoch[17 (6647/64000) (382.5194sec)] loss: 148.95 acc: 86.92\n"
          ]
        }
      ],
      "source": [
        "import time\n",
        "start_time = time.time()\n",
        "\n",
        "net.train()\n",
        "\n",
        "step = 0\n",
        "epochs = 0\n",
        "losses = []\n",
        "\n",
        "while step < 6400:\n",
        "\n",
        "    train_loss = 0.0\n",
        "    correct = 0.0\n",
        "    total = 0.0\n",
        "\n",
        "    for batch_idx, (x, y) in enumerate(cifar_loader['train']):\n",
        "        step += 1\n",
        "        step_lr_scheduler.step()\n",
        "        x, y = x.to(device), y.to(device)\n",
        "        out = net(x)\n",
        "        loss = criterion(out, y)\n",
        "        optimizer.zero_grad()\n",
        "        loss.backward()\n",
        "        optimizer.step()\n",
        "\n",
        "        correct += (out.argmax(1) == y).float().sum().item()\n",
        "        total += x.size(0)\n",
        "        train_loss += loss.item()\n",
        "\n",
        "    losses.append(train_loss)\n",
        "    epochs += 1\n",
        "\n",
        "    print(\"Epoch[{:d} ({:d}/64000) ({:.4f}sec)] loss: {:.2f} acc: {:.2f}\".format(epochs, step, time.time()-start_time, train_loss, 100.*correct/total))\n",
        ""
      ]
    },
    {
      "cell_type": "markdown",
      "metadata": {
        "id": "QM6R2vujO6Hq"
      },
      "source": [
        "Plot train loss and calculate test performance."
      ]
    },
    {
      "cell_type": "code",
      "execution_count": 22,
      "metadata": {
        "id": "QwBEobQXO6Hq"
      },
      "outputs": [],
      "source": [
        "import matplotlib\n",
        "import matplotlib.pyplot as plt"
      ]
    },
    {
      "cell_type": "code",
      "execution_count": 23,
      "metadata": {
        "id": "M1vQhzqDO6Hq",
        "outputId": "1d0b5970-0599-410f-c241-67f55057291f",
        "colab": {
          "base_uri": "https://localhost:8080/",
          "height": 451
        }
      },
      "outputs": [
        {
          "output_type": "execute_result",
          "data": {
            "text/plain": [
              "[<matplotlib.lines.Line2D at 0x7d5369c17df0>]"
            ]
          },
          "metadata": {},
          "execution_count": 23
        },
        {
          "output_type": "display_data",
          "data": {
            "text/plain": [
              "<Figure size 640x480 with 1 Axes>"
            ],
            "image/png": "[encoded data removed]"
          },
          "metadata": {}
        }
      ],
      "source": [
        "plt.plot(losses)"
      ]
    },
    {
      "cell_type": "code",
      "execution_count": 24,
      "metadata": {
        "id": "-Cq2ancOO6Hq",
        "outputId": "c19f59b5-6457-41be-d084-022d3efaa4f1",
        "colab": {
          "base_uri": "https://localhost:8080/"
        }
      },
      "outputs": [
        {
          "output_type": "stream",
          "name": "stdout",
          "text": [
            "84.42\n"
          ]
        }
      ],
      "source": [
        "net.eval()\n",
        "test_correct = 0.0\n",
        "test_total = 0.0\n",
        "for batch_idx, (x, y) in enumerate(cifar_loader['test']):\n",
        "    x, y = x.to(device), y.to(device)\n",
        "    out = net(x)\n",
        "    test_correct += (out.argmax(1) == y).float().sum().item()\n",
        "    test_total += x.size(0)\n",
        "\n",
        "print(test_correct/test_total * 100.)\n"
      ]
    },
    {
      "cell_type": "markdown",
      "metadata": {
        "id": "-SZnC9rVO6Hr"
      },
      "source": [
        "Train CNNs wihtout residual connection."
      ]
    },
    {
      "cell_type": "code",
      "execution_count": 25,
      "metadata": {
        "collapsed": true,
        "id": "Pfy3bw65O6Hr",
        "outputId": "019d38c6-95c7-42a4-bff1-02c3cff3f0bc",
        "colab": {
          "base_uri": "https://localhost:8080/"
        }
      },
      "outputs": [
        {
          "output_type": "stream",
          "name": "stdout",
          "text": [
            "Epoch[1 (391/64000) (22.7844sec)] loss: 686.91 acc: 33.17\n",
            "Epoch[2 (782/64000) (45.6724sec)] loss: 537.28 acc: 49.17\n",
            "Epoch[3 (1173/64000) (67.2190sec)] loss: 415.91 acc: 61.95\n",
            "Epoch[4 (1564/64000) (89.9631sec)] loss: 350.93 acc: 68.53\n",
            "Epoch[5 (1955/64000) (112.6811sec)] loss: 309.37 acc: 72.40\n",
            "Epoch[6 (2346/64000) (134.1992sec)] loss: 281.59 acc: 74.97\n",
            "Epoch[7 (2737/64000) (156.7619sec)] loss: 261.11 acc: 77.14\n",
            "Epoch[8 (3128/64000) (179.3772sec)] loss: 244.64 acc: 78.29\n",
            "Epoch[9 (3519/64000) (200.8034sec)] loss: 236.05 acc: 79.08\n",
            "Epoch[10 (3910/64000) (223.5478sec)] loss: 223.21 acc: 80.25\n",
            "Epoch[11 (4301/64000) (246.3955sec)] loss: 213.92 acc: 81.10\n",
            "Epoch[12 (4692/64000) (270.0072sec)] loss: 207.77 acc: 81.74\n",
            "Epoch[13 (5083/64000) (292.2874sec)] loss: 202.67 acc: 81.99\n",
            "Epoch[14 (5474/64000) (315.0680sec)] loss: 195.96 acc: 82.62\n",
            "Epoch[15 (5865/64000) (337.1025sec)] loss: 191.45 acc: 83.10\n",
            "Epoch[16 (6256/64000) (360.6084sec)] loss: 185.72 acc: 83.59\n",
            "Epoch[17 (6647/64000) (383.5625sec)] loss: 180.74 acc: 84.04\n"
          ]
        }
      ],
      "source": [
        "start_time = time.time()\n",
        "\n",
        "net_plain = cnn18().to(device)\n",
        "optimizer = torch.optim.SGD(net_plain.parameters(), lr=0.1, momentum=0.9, weight_decay=1e-4)\n",
        "decay_epoch = [32000, 48000]\n",
        "step_lr_scheduler = torch.optim.lr_scheduler.MultiStepLR(optimizer, milestones=decay_epoch, gamma=0.1)\n",
        "\n",
        "net_plain.train()\n",
        "\n",
        "step = 0\n",
        "epochs = 0\n",
        "losses_plain = []\n",
        "\n",
        "while step < 6400:\n",
        "\n",
        "    train_loss = 0.0\n",
        "    correct = 0.0\n",
        "    total = 0.0\n",
        "\n",
        "    for batch_idx, (x, y) in enumerate(cifar_loader['train']):\n",
        "        step += 1\n",
        "        step_lr_scheduler.step()\n",
        "        x, y = x.to(device), y.to(device)\n",
        "        out = net_plain(x)\n",
        "        loss = criterion(out, y)\n",
        "        optimizer.zero_grad()\n",
        "        loss.backward()\n",
        "        optimizer.step()\n",
        "\n",
        "        correct += (out.argmax(1) == y).float().sum().item()\n",
        "        total += x.size(0)\n",
        "        train_loss += loss.item()\n",
        "\n",
        "    losses_plain.append(train_loss)\n",
        "    epochs += 1\n",
        "\n",
        "    print(\"Epoch[{:d} ({:d}/64000) ({:.4f}sec)] loss: {:.2f} acc: {:.2f}\".format(epochs, step, time.time()-start_time, train_loss, 100.*correct/total))\n",
        ""
      ]
    },
    {
      "cell_type": "markdown",
      "metadata": {
        "id": "kQ1X_20UO6Hs"
      },
      "source": [
        "Plot train loss and calculate test performance."
      ]
    },
    {
      "cell_type": "code",
      "execution_count": 26,
      "metadata": {
        "id": "wXP2Jn-8O6Hs",
        "outputId": "df0a8e0c-4981-4e87-9a75-45ca66ff3a81",
        "colab": {
          "base_uri": "https://localhost:8080/",
          "height": 430
        }
      },
      "outputs": [
        {
          "output_type": "display_data",
          "data": {
            "text/plain": [
              "<Figure size 640x480 with 1 Axes>"
            ],
            "image/png": "[encoded data removed]"
          },
          "metadata": {}
        }
      ],
      "source": [
        "plt.plot(losses, label='resnet')\n",
        "plt.plot(losses_plain, label='cnn')\n",
        "plt.legend()\n",
        "plt.show()"
      ]
    },
    {
      "cell_type": "code",
      "execution_count": 27,
      "metadata": {
        "id": "KYhNOczXO6Hs",
        "outputId": "2c650366-b795-4e4e-a111-f790f0b0438f",
        "colab": {
          "base_uri": "https://localhost:8080/"
        }
      },
      "outputs": [
        {
          "output_type": "stream",
          "name": "stdout",
          "text": [
            "81.51\n"
          ]
        }
      ],
      "source": [
        "net_plain.eval()\n",
        "test_correct = 0.0\n",
        "test_total = 0.0\n",
        "for batch_idx, (x, y) in enumerate(cifar_loader['test']):\n",
        "    x, y = x.to(device), y.to(device)\n",
        "    out = net_plain(x)\n",
        "    test_correct += (out.argmax(1) == y).float().sum().item()\n",
        "    test_total += x.size(0)\n",
        "\n",
        "print(test_correct/test_total * 100.)\n"
      ]
    },
    {
      "cell_type": "markdown",
      "metadata": {
        "id": "hndf3nE5O6Hs"
      },
      "source": [
        "### Reference\n",
        "* https://tutorials.pytorch.kr/beginner/blitz/neural_networks_tutorial.html\n",
        "* https://github.com/dnddnjs/pytorch-cifar10/blob/enas/resnet/model.py\n",
        "* https://icml.cc/2016/tutorials/icml2016_tutorial_deep_residual_networks_kaiminghe.pdf"
      ]
    },
    {
      "cell_type": "code",
      "source": [],
      "metadata": {
        "id": "GgO96fYSpVAE"
      },
      "execution_count": 27,
      "outputs": []
    }
  ],
  "metadata": {
    "colab": {
      "provenance": [],
      "gpuType": "T4"
    },
    "kernelspec": {
      "display_name": "Python 3",
      "name": "python3"
    },
    "language_info": {
      "codemirror_mode": {
        "name": "ipython",
        "version": 3
      },
      "file_extension": ".py",
      "mimetype": "text/x-python",
      "name": "python",
      "nbconvert_exporter": "python",
      "pygments_lexer": "ipython3",
      "version": "3.7.4"
    },
    "accelerator": "GPU"
  },
  "nbformat": 4,
  "nbformat_minor": 0
}